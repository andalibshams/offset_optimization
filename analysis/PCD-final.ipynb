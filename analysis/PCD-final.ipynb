{
 "cells": [
  {
   "cell_type": "code",
   "execution_count": 1,
   "metadata": {},
   "outputs": [],
   "source": [
    "%matplotlib widget"
   ]
  },
  {
   "cell_type": "code",
   "execution_count": 2,
   "metadata": {},
   "outputs": [],
   "source": [
    "import pandas as pd\n",
    "import numpy as np\n",
    "import matplotlib.pyplot as plt\n",
    "import pyodbc"
   ]
  },
  {
   "cell_type": "code",
   "execution_count": 3,
   "metadata": {},
   "outputs": [],
   "source": [
    "font = {'family' : 'serif',\n",
    "        'serif' : 'Times New Roman',\n",
    "        'size'   : 8}\n",
    "plt.rc('font', **font)"
   ]
  },
  {
   "cell_type": "code",
   "execution_count": 4,
   "metadata": {},
   "outputs": [],
   "source": [
    "server = 'mrwhite.intrans.iastate.edu'\n",
    "database = 'sim_Andalib'\n",
    "\n",
    "cnxn = pyodbc.connect('DRIVER={ODBC Driver 13 for SQL Server};SERVER='+server+';DATABASE='+database+';Trusted_Connection=yes')"
   ]
  },
  {
   "cell_type": "code",
   "execution_count": 5,
   "metadata": {},
   "outputs": [],
   "source": [
    "def drop_first_row(sig_df):\n",
    "\n",
    "    if (sig_df.iloc[0][1] == 1 or sig_df.iloc[0][1]== sig_df.iloc[1][1]): \n",
    "        sig_df = sig_df.iloc[1:, :].copy()\n",
    "        return drop_first_row(sig_df)\n",
    "    else: return sig_df\n",
    "    \n",
    "    "
   ]
  },
  {
   "cell_type": "code",
   "execution_count": 6,
   "metadata": {},
   "outputs": [],
   "source": [
    "def pcd_pog(signal_df, veh_trajectory):\n",
    "    signal_df = drop_first_row(signal_df)\n",
    "#     breakpoint()\n",
    "    signal_df.loc[:, 'cycle'] = np.hstack([0, signal_df.iloc[:-1, 2]]) ### column 2 = eog\n",
    "    signal_df.loc[:, 'x_axis'] = signal_df.bog+np.hstack([signal_df.iloc[1:, 3], 0]) ### column 3 = bog, 86400 = 3600*24\n",
    "    signal_df.loc[:, 'bog2'] = signal_df.bog - signal_df.cycle\n",
    "    signal_df.loc[:, \"bog2\"] = signal_df[\"bog2\"] + np.hstack([0,0,signal_df.iloc[1:-1, 6]])### column 6  = bog2\n",
    "\n",
    "    eog_2 = np.array(signal_df.iloc[1:, 2]) - np.array(signal_df.iloc[:-1, 4])\n",
    "    eog_2[2:] += eog_2[1:-1] \n",
    "    eog_2 = np.hstack([eog_2, eog_2[-1]])\n",
    "\n",
    "    signal_df.loc[:, 'eog2'] = eog_2\n",
    "\n",
    "    eog_list = signal_df.loc[signal_df[\"eog\"] != 0, \"eog\"]\n",
    "    bog_list = signal_df.loc[signal_df[\"bog\"] != 0, \"bog\"]\n",
    "\n",
    "    veh_trajectory[\"timeStamp\"] = veh_trajectory.time - veh_trajectory.travel_time + travel_time_intersection\n",
    "    veh_trajectory = veh_trajectory.sort_values(by=['timeStamp'])\n",
    "    veh_trajectory = pd.merge_asof(veh_trajectory, eog_list,left_on='timeStamp', right_on='eog', direction = 'backward')\n",
    "    veh_trajectory[\"TIC\"] = veh_trajectory.timeStamp - veh_trajectory.eog\n",
    "    veh_on_green = pd.merge_asof(veh_trajectory, bog_list,left_on='eog', right_on='bog', direction = 'forward')\n",
    "    veh_on_green = veh_on_green[veh_on_green.TIC>=(veh_on_green.bog-veh_on_green.eog)]\n",
    "\n",
    "    pog = len(veh_on_green[(veh_on_green.timeStamp>=simulation_start) & (veh_on_green.timeStamp<=simulation_end)])\n",
    "    pog /= len(veh_trajectory[(veh_trajectory.timeStamp>=simulation_start) & (veh_trajectory.timeStamp<=simulation_end)])\n",
    "        \n",
    "    return signal_df[['x_axis','bog2', 'eog2']], veh_trajectory[['timeStamp', 'TIC']],veh_on_green[['timeStamp', 'TIC']], pog"
   ]
  },
  {
   "cell_type": "code",
   "execution_count": 7,
   "metadata": {},
   "outputs": [],
   "source": [
    "# def extension_plot(signal_df, extension_calls, sc, sg):\n",
    "#     sig_df = signal_df.drop_duplicates(['x_axis'], keep = 'last').copy()\n",
    "#     sig_df['x2'] = np.hstack([sig_df.iloc[1:, 0], simulation_end])\n",
    "    \n",
    "#     ext_call_df = extension_calls.loc[(extension_calls.SC == sc) & (extension_calls.SG == sg)].copy()\n",
    "#     ext_call_df = ext_call_df.drop(['SC', 'SG'], axis = 1)\n",
    "#     ext_call_df.sort_values(['simSec'], inplace = True)\n",
    "#     ext_df = pd.merge_asof(ext_call_df, sig_df, right_on='x_axis', left_on = 'simSec', direction = 'backward')\n",
    "#     ext_df2 = ext_df.drop(['eog2', 'max_green', 'bog'], axis = 1)\n",
    "#     ext_df2['ext_call'] = ext_df2.bog2 + ext_df2.tSigState\n",
    "#     ext_df2['width'] = ext_df2.x2 - ext_df2.x_axis\n",
    "    \n",
    "#     return ext_df2[['x_axis', 'ext_call','width', 'extension_time']]"
   ]
  },
  {
   "cell_type": "code",
   "execution_count": 13,
   "metadata": {},
   "outputs": [],
   "source": [
    "simulation_start = 300\n",
    "simulation_end = 3600\n",
    "travel_time_intersection = 5\n",
    "\n",
    "sim_id = 21\n",
    "iteration = 1"
   ]
  },
  {
   "cell_type": "code",
   "execution_count": 8,
   "metadata": {},
   "outputs": [],
   "source": [
    "titles = [\"Zero-offset\", \"AOG\" , \"Modified-AOG\", \"AOG-CV\", \"Delay\" , \"Number of Stops\" , \"Delay + Stops\", \"PrOG\", \"Kell Method\", \"BW\" , \"Maxband\", \"Multiband\" ]\n",
    "run_ids = [1, 2,3,5,4,6,12, 10, 16, 8, 15, 14]"
   ]
  },
  {
   "cell_type": "code",
   "execution_count": 20,
   "metadata": {},
   "outputs": [],
   "source": [
    "signal_sql_test = \"SELECT [StudyID], [RunID], [SimTime],[SC], [SG], [state] FROM [sim_Andalib].[dbo].[signalchanges] where [StudyID]=\" \\\n",
    "                    + str(sim_id)+\"and [Iteration]=\"+str(iteration)+ \"and [SC]>= 9005 and [SC]<= 9012 and [SG]=\" + str(sg_) \\\n",
    "                    + \"Order By [SimTime]\"\n",
    "\n",
    "signal = pd.read_sql(signal_sql_test, cnxn)\n",
    "\n",
    "if(len(signal)==0): print(\"ERROR\")\n",
    "else:\n",
    "    signal = signal.loc[signal.state.isin([0, 1])]\n",
    "    signal[\"eog\"] = signal.SimTime - signal.SimTime*signal.state\n",
    "    signal[\"bog\"] = signal.SimTime - signal.SimTime*(1-signal.state)"
   ]
  },
  {
   "cell_type": "code",
   "execution_count": 21,
   "metadata": {},
   "outputs": [],
   "source": [
    "delay_sql = \"SELECT [RunID], [Time],[No_],[Veh],[Trav_] FROM [sim_Andalib].[dbo].[traveltimes] where [StudyID]=\" \\\n",
    "            + str(sim_id) +\"and [Iteration]=\" + str(iteration) \n",
    "\n",
    "delay = pd.read_sql(delay_sql, cnxn)\n",
    "delay.columns = ['RunID', 'time','tt_id', 'vehNo', 'travel_time']\n",
    "delay.sort_values(by=['tt_id', 'time'], inplace = True)"
   ]
  },
  {
   "cell_type": "code",
   "execution_count": 28,
   "metadata": {},
   "outputs": [],
   "source": [
    "# sc_ = [9012,9011,9010,9009, 9008, 9007,9006,9005]\n",
    "# sg_ = 6\n",
    "# tt_ = [31204, 31104, 31004, 30904,30804, 30704, 30604, 30504]\n",
    "\n",
    "sc_ = [9005,9006,9007,9008, 9009, 9010,9011,9012]\n",
    "sg_ = 2\n",
    "tt_ = [30504, 30604, 30704, 30804,30904, 31004, 31104, 31204]\n",
    "\n",
    "# sc_ = [9007, 9008, 9009]\n",
    "# sg_ = 2\n",
    "# tt_ = [ 30703,30803, 30903]\n",
    "\n",
    "# sc_ = [9009, 9008, 9007]\n",
    "# sg_ = 6\n",
    "# tt_ = [ 30904,30804, 30704]\n",
    "\n",
    "\n",
    "assert(len(sc_)==len(tt_))\n",
    "\n",
    "figure_size = (15, 8.5)\n"
   ]
  },
  {
   "cell_type": "code",
   "execution_count": 17,
   "metadata": {},
   "outputs": [],
   "source": [
    "directory = \"C:\\\\Users\\\\ashams\\\\Box\\\\research works\\\\comparison signal offset optimization\\\\analysis\\\\\""
   ]
  },
  {
   "cell_type": "code",
   "execution_count": 29,
   "metadata": {},
   "outputs": [
    {
     "data": {
      "application/vnd.jupyter.widget-view+json": {
       "model_id": "a6977d3c8fde4d05877133c6cefdbdd9",
       "version_major": 2,
       "version_minor": 0
      },
      "text/plain": [
       "Canvas(toolbar=Toolbar(toolitems=[('Home', 'Reset original view', 'home', 'home'), ('Back', 'Back to previous …"
      ]
     },
     "metadata": {},
     "output_type": "display_data"
    },
    {
     "name": "stdout",
     "output_type": "stream",
     "text": [
      "9005   30504\n",
      "9006   30604\n",
      "9007   30704\n",
      "9008   30804\n",
      "9009   30904\n",
      "9010   31004\n",
      "9011   31104\n",
      "9012   31204\n",
      "9005   30504\n",
      "9006   30604\n",
      "9007   30704\n",
      "9008   30804\n",
      "9009   30904\n",
      "9010   31004\n",
      "9011   31104\n",
      "9012   31204\n",
      "9005   30504\n",
      "9006   30604\n",
      "9007   30704\n",
      "9008   30804\n",
      "9009   30904\n",
      "9010   31004\n",
      "9011   31104\n",
      "9012   31204\n",
      "9005   30504\n",
      "9006   30604\n",
      "9007   30704\n",
      "9008   30804\n",
      "9009   30904\n",
      "9010   31004\n",
      "9011   31104\n",
      "9012   31204\n",
      "9005   30504\n",
      "9006   30604\n",
      "9007   30704\n",
      "9008   30804\n",
      "9009   30904\n",
      "9010   31004\n",
      "9011   31104\n",
      "9012   31204\n",
      "9005   30504\n",
      "9006   30604\n",
      "9007   30704\n",
      "9008   30804\n",
      "9009   30904\n",
      "9010   31004\n",
      "9011   31104\n",
      "9012   31204\n",
      "9005   30504\n",
      "9006   30604\n",
      "9007   30704\n",
      "9008   30804\n",
      "9009   30904\n",
      "9010   31004\n",
      "9011   31104\n",
      "9012   31204\n",
      "9005   30504\n",
      "9006   30604\n",
      "9007   30704\n",
      "9008   30804\n",
      "9009   30904\n",
      "9010   31004\n",
      "9011   31104\n",
      "9012   31204\n",
      "9005   30504\n",
      "9006   30604\n",
      "9007   30704\n",
      "9008   30804\n",
      "9009   30904\n",
      "9010   31004\n",
      "9011   31104\n",
      "9012   31204\n",
      "9005   30504\n",
      "9006   30604\n",
      "9007   30704\n",
      "9008   30804\n",
      "9009   30904\n",
      "9010   31004\n",
      "9011   31104\n",
      "9012   31204\n",
      "9005   30504\n",
      "9006   30604\n",
      "9007   30704\n",
      "9008   30804\n",
      "9009   30904\n",
      "9010   31004\n",
      "9011   31104\n",
      "9012   31204\n",
      "9005   30504\n",
      "9006   30604\n",
      "9007   30704\n",
      "9008   30804\n",
      "9009   30904\n",
      "9010   31004\n",
      "9011   31104\n",
      "9012   31204\n"
     ]
    }
   ],
   "source": [
    "fig, axes = plt.subplots(nrows = 12, ncols = 8,sharey = True, sharex = True, figsize=figure_size)\n",
    "\n",
    "fig.tight_layout()\n",
    "fig.subplots_adjust(wspace=0.05, hspace=0.1)\n",
    "\n",
    "for  i in range(len(titles)):\n",
    "    for j in range(len(sc_)):\n",
    "        \n",
    "        sc_num = sc_[j]\n",
    "        tt_num = tt_[j]\n",
    "        run_id = run_ids[i]\n",
    "        \n",
    "        print(sc_num, \" \", tt_num)\n",
    "#         i = itr//2\n",
    "#         j = itr%2\n",
    "\n",
    "        signal_df = signal.loc[(signal.RunID == run_id) & (signal.SC == sc_num), ['SimTime', 'state', 'eog', 'bog']].copy()\n",
    "        traj_df = delay.loc[(delay.RunID == run_id) & (delay.tt_id == tt_num),['time', 'travel_time']].copy()\n",
    "\n",
    "        signal_df, veh_arrival, veh_on_green, pog =  pcd_pog(signal_df, traj_df)\n",
    "\n",
    "        if(signal_df.iloc[-1][0]==0):    signal_df.iloc[-1][0]=simulation_end\n",
    "\n",
    "        pcd = axes[i][j]\n",
    "        pcd.plot(signal_df['x_axis'], signal_df['bog2'], color = 'g')\n",
    "        pcd.plot(signal_df['x_axis'], signal_df['eog2'], color = 'r')\n",
    "        pcd.fill_between(signal_df.x_axis, signal_df.bog2, signal_df.eog2, color = 'g', alpha = 0.5)\n",
    "        pcd.scatter(veh_arrival[\"timeStamp\"], veh_arrival[\"TIC\"], color = 'black', marker = '.', s = 0.2)\n",
    "\n",
    "        pcd.set_xlim([simulation_start, simulation_end])\n",
    "        pcd.set_ylim([0,150])\n",
    "#         pcd.set_yticklabels([0, 50, 100])\n",
    "        pcd.grid(which = 'both', linestyle = 'dashed')\n",
    "        pcd.grid(b=True, which='minor', alpha=0.2)\n",
    "        pcd.minorticks_on()\n",
    "#         pcd.set_xlabel(\"\")\n",
    "#         pcd.set_ylabel(\"\")\n",
    "        if(i==0): pcd.set_title(\"Int. \"+ str(sc_num - 9004))\n",
    "        if(j==0): pcd.set_ylabel(titles[i])\n",
    "        pcd.text(.5,.85, \"POG:\" + str(round(pog*100, 2)), fontsize = 9,horizontalalignment='center', transform=pcd.transAxes)\n",
    "\n",
    "    \n",
    "fig.text(-0.05, 0.45, 'Cycle Second',ha='center', rotation = 90, fontsize = 11)    \n",
    "fig.text(0.5, 0.0, 'Simulation Second', ha='center', fontsize = 11)\n",
    "\n",
    "fig.savefig(directory+\"pcd_eb_all.png\", dpi = 300,  bbox_inches='tight')\n",
    "# plt.close(fig)"
   ]
  },
  {
   "cell_type": "code",
   "execution_count": 15,
   "metadata": {},
   "outputs": [],
   "source": [
    "# extension_calls = pd.read_csv(directory+'\\\\'+str(sensing_range)+'\\\\extension.csv', header = None, delimiter = ';')\n",
    "# extension_calls.columns = ['SC', 'SG', 'simSec', 'tSigState', 'extension_time', 'vc_ratio', 'Num_of_vehicles', 'reason']\n",
    "# extension_calls = extension_calls.loc[extension_calls.extension_time>0.15]\n",
    "\n",
    "# extension_calls['bog'] = extension_calls.simSec - extension_calls.tSigState + 0.1\n",
    "\n",
    "# extension_calls['SC'] = extension_calls['SC'].astype(int)\n",
    "# extension_calls['SG'] = extension_calls['SG'].astype(int)\n",
    "# extension_calls['SC'] = extension_calls['SC']+1\n",
    "# extension_calls.loc[extension_calls.SG==1, 'SG'] = 2\n",
    "# extension_calls.loc[extension_calls.SG==5, 'SG'] = 6 \n",
    "\n",
    "# ext_df = extension_plot(signal_df, extension_calls, 3, 2)\n",
    "# for ind in range(len(ext_df)):\n",
    "#     pcd.add_patch(patches.Rectangle((ext_df.iloc[ind][0], ext_df.iloc[ind][1]), ext_df.iloc[ind][2], ext_df.iloc[ind][3], alpha = 0.6))"
   ]
  },
  {
   "cell_type": "code",
   "execution_count": null,
   "metadata": {},
   "outputs": [],
   "source": []
  }
 ],
 "metadata": {
  "kernelspec": {
   "display_name": "python 3.7 (vissim)",
   "language": "python",
   "name": "vissim"
  },
  "language_info": {
   "codemirror_mode": {
    "name": "ipython",
    "version": 3
   },
   "file_extension": ".py",
   "mimetype": "text/x-python",
   "name": "python",
   "nbconvert_exporter": "python",
   "pygments_lexer": "ipython3",
   "version": "3.7.3"
  },
  "varInspector": {
   "cols": {
    "lenName": 16,
    "lenType": 16,
    "lenVar": 40
   },
   "kernels_config": {
    "python": {
     "delete_cmd_postfix": "",
     "delete_cmd_prefix": "del ",
     "library": "var_list.py",
     "varRefreshCmd": "print(var_dic_list())"
    },
    "r": {
     "delete_cmd_postfix": ") ",
     "delete_cmd_prefix": "rm(",
     "library": "var_list.r",
     "varRefreshCmd": "cat(var_dic_list()) "
    }
   },
   "types_to_exclude": [
    "module",
    "function",
    "builtin_function_or_method",
    "instance",
    "_Feature"
   ],
   "window_display": false
  }
 },
 "nbformat": 4,
 "nbformat_minor": 4
}
