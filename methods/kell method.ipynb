{
 "cells": [
  {
   "cell_type": "code",
   "execution_count": 1,
   "id": "0347b1d7",
   "metadata": {},
   "outputs": [],
   "source": [
    "%matplotlib widget"
   ]
  },
  {
   "cell_type": "code",
   "execution_count": 2,
   "id": "42486539",
   "metadata": {},
   "outputs": [],
   "source": [
    "import numpy as np\n",
    "import matplotlib.pyplot as plt\n",
    "import pandas as pd"
   ]
  },
  {
   "cell_type": "code",
   "execution_count": 3,
   "id": "a5321c6e",
   "metadata": {},
   "outputs": [],
   "source": [
    "font = {'family' : 'serif',\n",
    "        'serif' : 'Times New Roman',\n",
    "        'size'   : 8}\n",
    "plt.rc('font', **font)"
   ]
  },
  {
   "cell_type": "code",
   "execution_count": 4,
   "id": "9b1b9373",
   "metadata": {},
   "outputs": [],
   "source": [
    "cycle_length = 120\n",
    "\n",
    "split_time = np.array([[75, 75],  \n",
    "                                       [75, 66], \n",
    "                                       [78, 75], \n",
    "                                       [46, 54], \n",
    "                                       [76, 76], \n",
    "                                       [86, 86], \n",
    "                                       [90, 90], \n",
    "                                       [66, 66]])\n",
    "\n",
    "offset_time = np.array([22.5, 22.5, 21, -27, -38,  -43, -45, 27])%120\n",
    "travel_time = np.array([13, 13, 13, 13, 13, 13, 26]) ### n-1\n",
    "distance = np.array([200, 395, 595, 775, 980, 1180, 1380, 1780])\n"
   ]
  },
  {
   "cell_type": "code",
   "execution_count": 5,
   "id": "e145fc7c",
   "metadata": {},
   "outputs": [
    {
     "data": {
      "application/vnd.jupyter.widget-view+json": {
       "model_id": "f683a3420e724e0e8d79bc7512094644",
       "version_major": 2,
       "version_minor": 0
      },
      "text/plain": [
       "Canvas(toolbar=Toolbar(toolitems=[('Home', 'Reset original view', 'home', 'home'), ('Back', 'Back to previous …"
      ]
     },
     "metadata": {},
     "output_type": "display_data"
    }
   ],
   "source": [
    "directory = \"C:\\\\Users\\\\ashams\\Box\\\\research works\\\\comparison signal offset optimization\\\\final figure and tables\\\\\"\n",
    "\n",
    "fig, axes = plt.subplots(1, 1, figsize = (5,4))\n",
    "\n",
    "axes.set_ylabel(\"Position (m)\", fontsize = 10)\n",
    "axes.set_xlabel(\"Time (second)\", fontsize = 10)\n",
    "\n",
    "axes.grid(which = 'both', linestyle = 'dashed')\n",
    "axes.grid(b=True, which='minor', alpha=0.2)\n",
    "axes.minorticks_on()\n",
    "\n",
    "axes.set_xlim(0,360)\n",
    "axes.set_ylim(0, 2000)\n",
    "\n",
    "axes.plot([330, 227], [200, 1780], color = 'black', linestyle = \"--\", linewidth = 1)\n",
    "axes.plot([270, 167], [200, 1780], color = 'black', linestyle = \"--\", linewidth = 1)\n",
    "axes.plot([90, 90+103], [200, 1780], color = 'black', linewidth = 1)\n",
    "axes.plot([30, 30+103], [200, 1780], color = 'black', linewidth = 1)\n",
    "\n",
    "\n",
    "\n",
    "for pos in distance:\n",
    "        axes.hlines(pos-10, 0, 360,  color = 'red')\n",
    "        axes.hlines(pos+10, 0, 360, color = 'red', linestyle = \"--\")\n",
    "        axes.vlines(180, 0, 2000, color = 'black')\n",
    "\n",
    "for i in range(8):\n",
    "        offset = offset_time[i]\n",
    "        green_eb = np.array([offset, split_time[i][0] + offset])\n",
    "        green_wb = np.array([offset, split_time[i][1]+offset])\n",
    "        \n",
    "        location_eb =  [distance[i] - 10]*2\n",
    "        location_wb = [distance[i] + 10]*2\n",
    "        \n",
    "        axes.plot(green_eb - cycle_length,location_eb, color=  \"green\")\n",
    "        axes.plot(green_wb - cycle_length,location_wb, color=  \"green\")\n",
    "        \n",
    "        axes.plot(green_eb,location_eb, color=  \"green\")\n",
    "        axes.plot(green_wb,location_wb, color=  \"green\")\n",
    "        \n",
    "        axes.plot(green_eb + cycle_length,location_eb, color=  \"green\")\n",
    "        axes.plot(green_wb+ cycle_length,location_wb, color=  \"green\")\n",
    "        \n",
    "        axes.plot(green_eb + cycle_length * 2,location_eb, color=  \"green\")\n",
    "        axes.plot(green_wb+ cycle_length * 2,location_wb, color=  \"green\")\n",
    "        \n",
    "        axes.plot(green_eb + cycle_length * 3,location_eb, color=  \"green\")\n",
    "        axes.plot(green_wb+ cycle_length * 3,location_wb, color=  \"green\")\n",
    "        \n",
    "        \n",
    "        \n",
    "fig.savefig(directory + \"Kell method.png\",  dpi = 300, bbox_inches = 'tight')"
   ]
  },
  {
   "cell_type": "code",
   "execution_count": 56,
   "id": "d4e982cd",
   "metadata": {},
   "outputs": [
    {
     "data": {
      "text/plain": [
       "array([22.5, 22.5, 21. , 93. , 82. , 77. , 75. , 27. ])"
      ]
     },
     "execution_count": 56,
     "metadata": {},
     "output_type": "execute_result"
    }
   ],
   "source": [
    "offset_time"
   ]
  },
  {
   "cell_type": "code",
   "execution_count": null,
   "id": "5b906694",
   "metadata": {},
   "outputs": [],
   "source": []
  }
 ],
 "metadata": {
  "kernelspec": {
   "display_name": "Python 3",
   "language": "python",
   "name": "python3"
  },
  "language_info": {
   "codemirror_mode": {
    "name": "ipython",
    "version": 3
   },
   "file_extension": ".py",
   "mimetype": "text/x-python",
   "name": "python",
   "nbconvert_exporter": "python",
   "pygments_lexer": "ipython3",
   "version": "3.7.3"
  }
 },
 "nbformat": 4,
 "nbformat_minor": 5
}
