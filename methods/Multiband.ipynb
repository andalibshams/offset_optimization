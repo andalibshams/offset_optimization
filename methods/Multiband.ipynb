{
 "cells": [
  {
   "cell_type": "code",
   "execution_count": 1,
   "id": "6a8e2928",
   "metadata": {},
   "outputs": [],
   "source": [
    "from docplex.mp.model import Model\n",
    "import docplex.cp.utils_visu as visu\n",
    "from cplex.exceptions import CplexError \n",
    "\n",
    "import pandas as pd\n",
    "import numpy as np"
   ]
  },
  {
   "cell_type": "code",
   "execution_count": 2,
   "id": "ca3809a4",
   "metadata": {},
   "outputs": [],
   "source": [
    "#number of intersection\n",
    "n = 8\n",
    "\n",
    "#exponential power\n",
    "p = 1\n",
    "\n",
    "#speed (mph) \n",
    "v= 35 \n",
    "\n",
    "#cycle length\n",
    "C= 120\n",
    "\n",
    "#cycle per second\n",
    "z = 1/C\n"
   ]
  },
  {
   "cell_type": "code",
   "execution_count": null,
   "id": "d42e1c4d",
   "metadata": {},
   "outputs": [],
   "source": [
    "# #network details read from excel file\n",
    "# data = pd.read_excel(\"C:\\\\Users\\\\ashams\\\\Box\\\\research works\\\\comparison signal offset optimization\\\\bandwidth maximization\\\\multiband.xlsx\", sheet_name = \"Sheet6\")\n",
    "\n",
    "# data.columns = ['Intersection ', 'vol', 'vol_bar', 's', 's_bar', 'k', 'd', 'd_bar', 'L', 'L_bar', 'R', 'tau', 'tau_bar', 'delta']"
   ]
  },
  {
   "cell_type": "code",
   "execution_count": null,
   "id": "e3ae9ca1",
   "metadata": {},
   "outputs": [],
   "source": [
    "# data.loc[:, 'r'] = data['R']+data['L_bar']\n",
    "# data.loc[:, 'r_bar'] = data['R']+data['L']\n",
    "\n",
    "# data.loc[:, 's'] = data.loc[:, 's']*(C-data.loc[:, 'r'])/C\n",
    "# data.loc[:, 's_bar'] = data.loc[:, 's_bar']*(data.loc[:, 'r_bar'])/C\n",
    "\n",
    "# data.loc[:, 't'] = data['d']/(v*1.47)\n",
    "# data.loc[:, 't_bar'] = data['d_bar']/(v*1.47)\n",
    "\n",
    "# data.loc[:, 'a'] = np.power(data['vol']/data['s'],p)\n",
    "# data.loc[:, 'a_bar'] = np.power(data['vol_bar']/data['s_bar'],p)\n",
    "\n",
    "# # data.loc[:, 'k'] = data.loc[:, 'vol']/ data.loc[:, 'vol_bar']"
   ]
  },
  {
   "cell_type": "code",
   "execution_count": null,
   "id": "44b16946",
   "metadata": {},
   "outputs": [],
   "source": [
    "# data"
   ]
  },
  {
   "cell_type": "code",
   "execution_count": 5,
   "id": "6255a6cf",
   "metadata": {},
   "outputs": [],
   "source": [
    "mdl1 = Model(name = 'MAXBAND')"
   ]
  },
  {
   "cell_type": "code",
   "execution_count": 6,
   "id": "77b90ea6",
   "metadata": {},
   "outputs": [],
   "source": [
    "#variables\n",
    "b     = mdl1.continuous_var(name ='b')\n",
    "m     = mdl1.integer_var_dict([i for i in range(n-1)], lb = None, name = 'm')\n",
    "w     = mdl1.continuous_var_dict([i for i in range(n)], name = 'w')\n",
    "w_bar = mdl1.continuous_var_dict([i for i in range(n)], name = 'w_bar')"
   ]
  },
  {
   "cell_type": "code",
   "execution_count": 7,
   "id": "98c3ebe2",
   "metadata": {},
   "outputs": [],
   "source": [
    "#objective function\n",
    "mdl1.maximize(b)"
   ]
  },
  {
   "cell_type": "code",
   "execution_count": 8,
   "id": "9db4d93a",
   "metadata": {},
   "outputs": [],
   "source": [
    "# #constraints\n",
    "mdl1.add_constraints(w[i]+b <= C- data2['r'][i] for i in range(n))\n",
    "mdl1.add_constraints(w_bar[i]+b <= C- data2['r_bar'][i] for i in range(n))\n",
    "\n",
    "for i in range(n-1):\n",
    "    mdl1.add_constraint(w[i]+w_bar[i] - w[i+1] - w_bar[i+1] + data2['t'][i] + data2['t_bar'][i] + data2['delta_diff'][i] == \\\n",
    "                        -0.5*(data2['r'][i] + data2['r_bar'][i]) + 0.5*(data2['r'][i+1] + data2['r_bar'][i+1]) +m[i]*C)\n",
    "\n"
   ]
  },
  {
   "cell_type": "code",
   "execution_count": 9,
   "id": "b9abc61f",
   "metadata": {},
   "outputs": [
    {
     "name": "stdout",
     "output_type": "stream",
     "text": [
      "Model: MAXBAND\n",
      " - number of variables: 24\n",
      "   - binary=0, integer=7, continuous=17\n",
      " - number of constraints: 23\n",
      "   - linear=23\n",
      " - parameters: defaults\n",
      " - objective: maximize\n",
      " - problem type is: MILP\n"
     ]
    }
   ],
   "source": [
    "mdl1.print_information()"
   ]
  },
  {
   "cell_type": "code",
   "execution_count": 10,
   "id": "b03eaafb",
   "metadata": {},
   "outputs": [
    {
     "name": "stdout",
     "output_type": "stream",
     "text": [
      "objective: 28.800\n",
      "  b=28.800\n",
      "  m_1=1\n",
      "  m_5=1\n",
      "  w_0=33.800\n",
      "  w_1=46.200\n",
      "  w_4=30.150\n",
      "  w_5=47.950\n",
      "  w_6=2.750\n",
      "  w_7=16.500\n",
      "  w_bar_0=33.800\n",
      "  w_bar_1=37.200\n",
      "  w_bar_3=4.100\n",
      "  w_bar_4=30.150\n",
      "  w_bar_5=47.950\n",
      "  w_bar_6=2.750\n",
      "  w_bar_7=16.500\n"
     ]
    }
   ],
   "source": [
    "mdl1.solve(log_output=False)\n",
    "mdl1.print_solution()"
   ]
  },
  {
   "cell_type": "code",
   "execution_count": 11,
   "id": "033f6f96",
   "metadata": {},
   "outputs": [
    {
     "name": "stdout",
     "output_type": "stream",
     "text": [
      "[  0.     5.    59.5   57.7   55.75  55.75 115.75 115.5 ]\n"
     ]
    },
    {
     "data": {
      "text/plain": [
       "array([  0.,   5.,  60.,  58.,  56.,  56., 116., 116.])"
      ]
     },
     "execution_count": 11,
     "metadata": {},
     "output_type": "execute_result"
    }
   ],
   "source": [
    "result_w     = np.array(list(mdl1.solution.get_value_dict(w_bar).values()))\n",
    "red = np.array(data2[\"r_bar\"])\n",
    "\n",
    "rel_offsets = 1/2 * (red[:-1] - red[1:]) + result_w[:-1] - result_w[1:] + data2[\"t\"][:-1]\n",
    "offsets = np.hstack([0, np.cumsum(rel_offsets)])%C\n",
    "\n",
    "print(offsets)\n",
    "np.round(offsets, 0)"
   ]
  },
  {
   "cell_type": "code",
   "execution_count": null,
   "id": "91908063",
   "metadata": {},
   "outputs": [],
   "source": [
    "# mdl2 = Model(name='Maxband2')"
   ]
  },
  {
   "cell_type": "code",
   "execution_count": null,
   "id": "4724bb3d",
   "metadata": {},
   "outputs": [],
   "source": [
    "# #variables\n",
    "# b         = mdl2.continuous_var()\n",
    "# b_bar     = mdl2.continuous_var()\n",
    "# m         = mdl2.integer_var_dict([i for i in range(n-1)], lb = None)\n",
    "# w         = mdl2.continuous_var_dict([i for i in range(n)])\n",
    "# w_bar     = mdl2.continuous_var_dict([i for i in range(n)])\n",
    "# Delta     = mdl2.binary_var_dict([i for i in range(n)])\n",
    "# Delta_bar = mdl2.binary_var_dict([i for i in range(n)])"
   ]
  },
  {
   "cell_type": "code",
   "execution_count": null,
   "id": "eaa4d8be",
   "metadata": {},
   "outputs": [],
   "source": [
    "# k = 2\n",
    "# mdl2.maximize(b + k*b_bar)"
   ]
  },
  {
   "cell_type": "code",
   "execution_count": null,
   "id": "dfcd8ae8",
   "metadata": {},
   "outputs": [],
   "source": [
    "# mdl2.add_constraint((1-k)*b_bar>=(1-k)*k*b)\n",
    "# mdl2.add_constraints(w[i]+b <= C- data['r'][i] for i in range(n))\n",
    "# mdl2.add_constraints(w_bar[i]+b <= C- data['r_bar'][i] for i in range(n))\n",
    "\n",
    "# for i in range(n-1):\n",
    "#     mdl2.add_constraint(w[i]+w_bar[i] - (w[i+1] + w_bar[i+1]) + data['t'][i] + data['t_bar'][i] + \\\n",
    "#                         Delta[i]*data['L'][i] - Delta_bar[i]*data['L_bar'][i]  -\\\n",
    "#                         (Delta[i+1]*data['L'][i+1] - Delta_bar[i+1]*data['L_bar'][i+1]) - m[i] == \\\n",
    "#                         (data['r'][i+1] - data['r'][i]) + data['tau_bar'][i] + data['tau'][i+1])\n",
    "\n"
   ]
  },
  {
   "cell_type": "code",
   "execution_count": null,
   "id": "a1dca854",
   "metadata": {},
   "outputs": [],
   "source": [
    "# mdl2.print_information()"
   ]
  },
  {
   "cell_type": "code",
   "execution_count": null,
   "id": "a6307183",
   "metadata": {},
   "outputs": [],
   "source": [
    "# mdl2.solve()\n",
    "# mdl2.print_solution()"
   ]
  },
  {
   "cell_type": "code",
   "execution_count": null,
   "id": "32cd27e3",
   "metadata": {},
   "outputs": [],
   "source": [
    "# mdl3 = Model(name='Multiband')"
   ]
  },
  {
   "cell_type": "code",
   "execution_count": null,
   "id": "c94ae772",
   "metadata": {},
   "outputs": [],
   "source": [
    "# #variables\n",
    "# b         = mdl3.continuous_var_dict([i for i in range(n)])\n",
    "# b_bar     = mdl3.continuous_var_dict([i for i in range(n)])\n",
    "# m         = mdl3.integer_var_dict([i for i in range(n-1)], lb = None)\n",
    "# w         = mdl3.continuous_var_dict([i for i in range(n)])\n",
    "# w_bar     = mdl3.continuous_var_dict([i for i in range(n)])\n",
    "# Delta     = mdl3.binary_var_dict([i for i in range(n)])\n",
    "# Delta_bar = mdl3.binary_var_dict([i for i in range(n)])"
   ]
  },
  {
   "cell_type": "code",
   "execution_count": null,
   "id": "78d250e2",
   "metadata": {},
   "outputs": [],
   "source": [
    "# mdl3.maximize(mdl3.sum(data['a'][i]*b[i] + data['a_bar'][i]*b_bar[i] for i in range(n)))"
   ]
  },
  {
   "cell_type": "code",
   "execution_count": null,
   "id": "a8421bdd",
   "metadata": {},
   "outputs": [],
   "source": [
    "# mdl3.print_information()"
   ]
  },
  {
   "cell_type": "code",
   "execution_count": null,
   "id": "4043475e",
   "metadata": {},
   "outputs": [],
   "source": [
    "# mdl3.add_constraints( (1-data['k'][i])*b_bar[i]>=(1-data['k'][i])*data['k'][i]*b[i]  for i in range(n))\n",
    "# mdl3.add_constraints( b[i]/2     <= w[i]                            for i in range(n))\n",
    "# mdl3.add_constraints( b_bar[i]/2 <= w_bar[i]                        for i in range(n))\n",
    "# mdl3.add_constraints( w[i]       <= (C-data['r'][i])-b[i]/2         for i in range(n))\n",
    "# mdl3.add_constraints( w_bar[i]   <= (C-data['r_bar'][i])-b_bar[i]/2 for i in range(n))\n",
    "# mdl3.add_constraints( b[i]/2     <= w[i+1]                          for i in range(n-1))\n",
    "# mdl3.add_constraints( b_bar[i]/2 <= w_bar[i+1]                      for i in range(n-1))\n",
    "# mdl3.add_constraints( w[i+1]     <=(C-data['r'][i+1])-b[i]/2        for i in range(n-1))\n",
    "# mdl3.add_constraints( w_bar[i+1] <=(C-data['r_bar'][i+1])-b[i]/2    for i in range(n-1))\n",
    "\n",
    "\n",
    "# for i in range(n-1):\n",
    "#     mdl3.add_constraint(w[i]+w_bar[i] - (w[i+1] + w_bar[i+1]) + data['t'][i] + data['t_bar'][i] + \\\n",
    "#                         Delta[i]*data['L'][i] - Delta_bar[i]*data['L_bar'][i]  -\\\n",
    "#                         (Delta[i+1]*data['L'][i+1] - Delta_bar[i+1]*data['L_bar'][i+1]) - m[i] == \\\n",
    "#                         (data['r'][i+1] - data['r'][i]) + data['tau_bar'][i] + data['tau'][i+1])\n"
   ]
  },
  {
   "cell_type": "code",
   "execution_count": null,
   "id": "57798057",
   "metadata": {},
   "outputs": [],
   "source": [
    "# mdl3.solve(log_output= False)\n",
    "# mdl3.print_solution()"
   ]
  },
  {
   "cell_type": "code",
   "execution_count": 12,
   "id": "89e2355c",
   "metadata": {},
   "outputs": [],
   "source": [
    "#network details read from excel file\n",
    "data2 = pd.read_excel(\"C:\\\\Users\\\\ashams\\\\Box\\\\research works\\\\comparison signal offset optimization\\\\bandwidth maximization\\\\multiband.xlsx\", sheet_name = \"Sheet1\")\n",
    "\n",
    "data2.columns = ['Intersection', 'vol', 'vol_bar', 's', 's_bar', 't', 't_bar', 'r', 'r_bar', 'tau', 'tau_bar', 'delta', 'delta_diff']"
   ]
  },
  {
   "cell_type": "code",
   "execution_count": 13,
   "id": "3a6c6964",
   "metadata": {},
   "outputs": [
    {
     "data": {
      "text/html": [
       "<div>\n",
       "<style scoped>\n",
       "    .dataframe tbody tr th:only-of-type {\n",
       "        vertical-align: middle;\n",
       "    }\n",
       "\n",
       "    .dataframe tbody tr th {\n",
       "        vertical-align: top;\n",
       "    }\n",
       "\n",
       "    .dataframe thead th {\n",
       "        text-align: right;\n",
       "    }\n",
       "</style>\n",
       "<table border=\"1\" class=\"dataframe\">\n",
       "  <thead>\n",
       "    <tr style=\"text-align: right;\">\n",
       "      <th></th>\n",
       "      <th>Intersection</th>\n",
       "      <th>vol</th>\n",
       "      <th>vol_bar</th>\n",
       "      <th>s</th>\n",
       "      <th>s_bar</th>\n",
       "      <th>t</th>\n",
       "      <th>t_bar</th>\n",
       "      <th>r</th>\n",
       "      <th>r_bar</th>\n",
       "      <th>tau</th>\n",
       "      <th>tau_bar</th>\n",
       "      <th>delta</th>\n",
       "      <th>delta_diff</th>\n",
       "      <th>a</th>\n",
       "      <th>a_bar</th>\n",
       "      <th>k</th>\n",
       "    </tr>\n",
       "  </thead>\n",
       "  <tbody>\n",
       "    <tr>\n",
       "      <th>0</th>\n",
       "      <td>1</td>\n",
       "      <td>1175</td>\n",
       "      <td>1294</td>\n",
       "      <td>5550</td>\n",
       "      <td>5550</td>\n",
       "      <td>12.9</td>\n",
       "      <td>12.9</td>\n",
       "      <td>45</td>\n",
       "      <td>45</td>\n",
       "      <td>5</td>\n",
       "      <td>5</td>\n",
       "      <td>0.0</td>\n",
       "      <td>-5.5</td>\n",
       "      <td>0.211712</td>\n",
       "      <td>0.233153</td>\n",
       "      <td>0.908037</td>\n",
       "    </tr>\n",
       "    <tr>\n",
       "      <th>1</th>\n",
       "      <td>2</td>\n",
       "      <td>1303</td>\n",
       "      <td>1303</td>\n",
       "      <td>5550</td>\n",
       "      <td>5550</td>\n",
       "      <td>12.8</td>\n",
       "      <td>12.8</td>\n",
       "      <td>45</td>\n",
       "      <td>54</td>\n",
       "      <td>5</td>\n",
       "      <td>5</td>\n",
       "      <td>5.5</td>\n",
       "      <td>5.0</td>\n",
       "      <td>0.234775</td>\n",
       "      <td>0.234775</td>\n",
       "      <td>1.000000</td>\n",
       "    </tr>\n",
       "    <tr>\n",
       "      <th>2</th>\n",
       "      <td>3</td>\n",
       "      <td>1241</td>\n",
       "      <td>1273</td>\n",
       "      <td>5550</td>\n",
       "      <td>5550</td>\n",
       "      <td>12.8</td>\n",
       "      <td>12.8</td>\n",
       "      <td>42</td>\n",
       "      <td>45</td>\n",
       "      <td>5</td>\n",
       "      <td>5</td>\n",
       "      <td>1.0</td>\n",
       "      <td>5.0</td>\n",
       "      <td>0.223604</td>\n",
       "      <td>0.229369</td>\n",
       "      <td>0.974863</td>\n",
       "    </tr>\n",
       "    <tr>\n",
       "      <th>3</th>\n",
       "      <td>4</td>\n",
       "      <td>1437</td>\n",
       "      <td>1236</td>\n",
       "      <td>5550</td>\n",
       "      <td>5550</td>\n",
       "      <td>13.1</td>\n",
       "      <td>13.1</td>\n",
       "      <td>74</td>\n",
       "      <td>66</td>\n",
       "      <td>5</td>\n",
       "      <td>5</td>\n",
       "      <td>4.0</td>\n",
       "      <td>4.0</td>\n",
       "      <td>0.258919</td>\n",
       "      <td>0.222703</td>\n",
       "      <td>1.162621</td>\n",
       "    </tr>\n",
       "    <tr>\n",
       "      <th>4</th>\n",
       "      <td>5</td>\n",
       "      <td>1638</td>\n",
       "      <td>1458</td>\n",
       "      <td>5550</td>\n",
       "      <td>5550</td>\n",
       "      <td>12.8</td>\n",
       "      <td>12.8</td>\n",
       "      <td>44</td>\n",
       "      <td>44</td>\n",
       "      <td>5</td>\n",
       "      <td>5</td>\n",
       "      <td>0.0</td>\n",
       "      <td>0.0</td>\n",
       "      <td>0.295135</td>\n",
       "      <td>0.262703</td>\n",
       "      <td>1.123457</td>\n",
       "    </tr>\n",
       "    <tr>\n",
       "      <th>5</th>\n",
       "      <td>6</td>\n",
       "      <td>1694</td>\n",
       "      <td>1434</td>\n",
       "      <td>5550</td>\n",
       "      <td>5550</td>\n",
       "      <td>12.8</td>\n",
       "      <td>12.8</td>\n",
       "      <td>34</td>\n",
       "      <td>34</td>\n",
       "      <td>5</td>\n",
       "      <td>5</td>\n",
       "      <td>0.0</td>\n",
       "      <td>0.0</td>\n",
       "      <td>0.305225</td>\n",
       "      <td>0.258378</td>\n",
       "      <td>1.181311</td>\n",
       "    </tr>\n",
       "    <tr>\n",
       "      <th>6</th>\n",
       "      <td>7</td>\n",
       "      <td>1729</td>\n",
       "      <td>1441</td>\n",
       "      <td>5550</td>\n",
       "      <td>5550</td>\n",
       "      <td>25.5</td>\n",
       "      <td>25.5</td>\n",
       "      <td>30</td>\n",
       "      <td>30</td>\n",
       "      <td>5</td>\n",
       "      <td>5</td>\n",
       "      <td>0.0</td>\n",
       "      <td>0.5</td>\n",
       "      <td>0.311532</td>\n",
       "      <td>0.259640</td>\n",
       "      <td>1.199861</td>\n",
       "    </tr>\n",
       "    <tr>\n",
       "      <th>7</th>\n",
       "      <td>8</td>\n",
       "      <td>1593</td>\n",
       "      <td>1458</td>\n",
       "      <td>5550</td>\n",
       "      <td>5550</td>\n",
       "      <td>0.0</td>\n",
       "      <td>0.0</td>\n",
       "      <td>54</td>\n",
       "      <td>54</td>\n",
       "      <td>5</td>\n",
       "      <td>5</td>\n",
       "      <td>0.5</td>\n",
       "      <td>0.0</td>\n",
       "      <td>0.287027</td>\n",
       "      <td>0.262703</td>\n",
       "      <td>1.092593</td>\n",
       "    </tr>\n",
       "  </tbody>\n",
       "</table>\n",
       "</div>"
      ],
      "text/plain": [
       "   Intersection   vol  vol_bar     s  s_bar     t  t_bar   r  r_bar  tau  \\\n",
       "0             1  1175     1294  5550   5550  12.9   12.9  45     45    5   \n",
       "1             2  1303     1303  5550   5550  12.8   12.8  45     54    5   \n",
       "2             3  1241     1273  5550   5550  12.8   12.8  42     45    5   \n",
       "3             4  1437     1236  5550   5550  13.1   13.1  74     66    5   \n",
       "4             5  1638     1458  5550   5550  12.8   12.8  44     44    5   \n",
       "5             6  1694     1434  5550   5550  12.8   12.8  34     34    5   \n",
       "6             7  1729     1441  5550   5550  25.5   25.5  30     30    5   \n",
       "7             8  1593     1458  5550   5550   0.0    0.0  54     54    5   \n",
       "\n",
       "   tau_bar  delta  delta_diff         a     a_bar         k  \n",
       "0        5    0.0        -5.5  0.211712  0.233153  0.908037  \n",
       "1        5    5.5         5.0  0.234775  0.234775  1.000000  \n",
       "2        5    1.0         5.0  0.223604  0.229369  0.974863  \n",
       "3        5    4.0         4.0  0.258919  0.222703  1.162621  \n",
       "4        5    0.0         0.0  0.295135  0.262703  1.123457  \n",
       "5        5    0.0         0.0  0.305225  0.258378  1.181311  \n",
       "6        5    0.0         0.5  0.311532  0.259640  1.199861  \n",
       "7        5    0.5         0.0  0.287027  0.262703  1.092593  "
      ]
     },
     "execution_count": 13,
     "metadata": {},
     "output_type": "execute_result"
    }
   ],
   "source": [
    "data2.loc[:, 'a'] = np.power(data2['vol']/data2['s'],p)\n",
    "data2.loc[:, 'a_bar'] = np.power(data2['vol_bar']/data2['s_bar'],p)\n",
    "\n",
    "data2['k'] = data2['vol']/ data2['vol_bar']\n",
    "data2['t'] = data2['t']%120\n",
    "\n",
    "data2"
   ]
  },
  {
   "cell_type": "code",
   "execution_count": 14,
   "id": "63b539a5",
   "metadata": {},
   "outputs": [],
   "source": [
    "mdl4 = Model(name='Multiband2') ### fixed cycle length, travel time and phase sequence"
   ]
  },
  {
   "cell_type": "code",
   "execution_count": 15,
   "id": "6f643c16",
   "metadata": {},
   "outputs": [],
   "source": [
    "#variables\n",
    "b     = mdl4.continuous_var_dict([i for i in range(n-1)], name = \"b\")\n",
    "b_bar = mdl4.continuous_var_dict([i for i in range(n-1)], name = \"b_bar\")\n",
    "m     = mdl4.integer_var_dict([i for i in range(n-1)], lb = None, name = \"m\")\n",
    "w     = mdl4.continuous_var_dict([i for i in range(n)], name =  \"w\")\n",
    "w_bar = mdl4.continuous_var_dict([i for i in range(n)], name = \"w_bar\")"
   ]
  },
  {
   "cell_type": "code",
   "execution_count": 16,
   "id": "d041695e",
   "metadata": {},
   "outputs": [],
   "source": [
    "mdl4.maximize(mdl4.sum(data2['a'][i]*b[i] + data2['a_bar'][i]*b_bar[i] for i in range(n-1)))"
   ]
  },
  {
   "cell_type": "code",
   "execution_count": 17,
   "id": "743facb3",
   "metadata": {},
   "outputs": [
    {
     "name": "stdout",
     "output_type": "stream",
     "text": [
      "Model: Multiband2\n",
      " - number of variables: 37\n",
      "   - binary=0, integer=7, continuous=30\n",
      " - number of constraints: 0\n",
      "   - linear=0\n",
      " - parameters: defaults\n",
      " - objective: maximize\n",
      " - problem type is: MILP\n"
     ]
    }
   ],
   "source": [
    "mdl4.print_information()"
   ]
  },
  {
   "cell_type": "markdown",
   "id": "c4af6053",
   "metadata": {},
   "source": [
    "<h1>Multi-Band Formulation</h1>\n",
    "    \n",
    "    \n",
    "Find- $b_i$, $\\overline{b_i}$, $w_i$, $\\overline{w_i}$, $m_i$-\n",
    "\n",
    "max $\\zeta = max B = \\sum_{i=1}^{n-1}(a_ib_i+\\overline{a_i}\\overline{b_i})$\n",
    "\n",
    "Here, $a_i = (\\frac{V_i}{S_i})^p$\n",
    "\n",
    "$V_i = $ directional volume\n",
    "\n",
    "$S_i = $ Saturation flow\n",
    "\n",
    "$ p = \\{0,1,2,4\\}$\n",
    "\n",
    "Subject to-\n",
    "\n",
    "$(1-k_i)\\overline{b_i}\\geq (1-k_i)k_ib_i$\n",
    "\n",
    "$(1/2)b_i\\leq w_i \\leq (C-r_i)-(1/2)b_i$ for $i = 1, \\dots, n-1$\n",
    "\n",
    "$(1/2)b_i \\leq w_{i+1} \\leq (C-r_{i+1})-(1/2)b_i$  for $i = 1, \\dots, n-1$\n",
    "\n",
    "$(1/2)\\overline{b}_i\\leq \\overline{w}_i \\leq (C-\\overline{r}_i)-(1/2)\\overline{b}_i$ for $i = 1, \\dots, n-1$\n",
    "\n",
    "$(1/2)\\overline{b}_i \\leq \\overline{w}_{i+1} \\leq (C-\\overline{r}_{i+1})-(1/2)\\overline{b}_i)$  for $i = 1, \\dots, n-1$\n",
    "\n",
    "$(w_i + \\overline{w}_i) - (w_{i+1}+\\overline{w}_{i+1}) + (t_i + \\overline{t}_i) + \\Delta_i - \\Delta_{i+1} - m_iC = -0.5(r_i+\\overline{r}_i) + 0.5(r_{i+1}+\\overline{r}_{i+1})  + (\\overline{\\tau}_i+\\tau_i)$ for $i = 1, \\dots, n-1$\n",
    "    \n",
    "$b_i, \\overline{b}_i, w_i, \\overline{w}_i \\geq 0$\n",
    "\n",
    "$m_i$ integer\n"
   ]
  },
  {
   "cell_type": "code",
   "execution_count": 18,
   "id": "b4783072",
   "metadata": {},
   "outputs": [],
   "source": [
    "mdl4.add_constraints( (1-data2['k'][i])*b_bar[i]>=(1-data2['k'][i])*data2['k'][i]*b[i]  for i in range(n-1))\n",
    "mdl4.add_constraints( b[i]/2     <= w[i]                              for i in range(n-1))\n",
    "mdl4.add_constraints( b_bar[i]/2 <= w_bar[i]                          for i in range(n-1))\n",
    "mdl4.add_constraints( w[i]       <= (C-data2['r'][i])-b[i]/2          for i in range(n-1))\n",
    "mdl4.add_constraints( w_bar[i]   <= (C-data2['r_bar'][i])-b_bar[i]/2  for i in range(n-1))\n",
    "mdl4.add_constraints( b[i]/2     <= w[i+1]                            for i in range(n-1))\n",
    "mdl4.add_constraints( b_bar[i]/2 <= w_bar[i+1]                        for i in range(n-1))\n",
    "mdl4.add_constraints( w[i+1]     <= (C-data2['r'][i+1])-b[i]/2        for i in range(n-1))\n",
    "mdl4.add_constraints( w_bar[i+1] <= (C-data2['r_bar'][i+1])-b[i]/2    for i in range(n-1))\n",
    "\n",
    "\n",
    "for i in range(n-1):\n",
    "    mdl4.add_constraint(w[i]+w_bar[i] - (w[i+1] + w_bar[i+1]) + data2['t'][i] + data2['t_bar'][i] + \\\n",
    "                        data2['delta_diff'][i] - m[i]*C == \\\n",
    "                        -0.5*(data2['r'][i] + data2['r_bar'][i]) + 0.5*(data2['r'][i+1] + data2['r_bar'][i+1]))\n"
   ]
  },
  {
   "cell_type": "code",
   "execution_count": 19,
   "id": "c04dadf4",
   "metadata": {},
   "outputs": [
    {
     "name": "stdout",
     "output_type": "stream",
     "text": [
      "objective: 148.386\n",
      "  b_0=38.316\n",
      "  b_1=23.058\n",
      "  b_2=14.221\n",
      "  b_3=14.221\n",
      "  b_4=66.158\n",
      "  b_5=44.558\n",
      "  b_6=44.558\n",
      "  b_bar_0=75.000\n",
      "  b_bar_1=57.000\n",
      "  b_bar_2=13.863\n",
      "  b_bar_3=13.863\n",
      "  b_bar_4=74.326\n",
      "  b_bar_5=52.637\n",
      "  b_bar_6=41.326\n",
      "  m_2=1\n",
      "  m_6=1\n",
      "  w_0=40.042\n",
      "  w_1=55.842\n",
      "  w_2=66.471\n",
      "  w_3=7.110\n",
      "  w_4=33.079\n",
      "  w_5=52.921\n",
      "  w_6=67.721\n",
      "  w_7=22.279\n",
      "  w_bar_0=37.500\n",
      "  w_bar_1=37.500\n",
      "  w_bar_2=63.471\n",
      "  w_bar_3=6.932\n",
      "  w_bar_4=37.163\n",
      "  w_bar_5=52.921\n",
      "  w_bar_6=67.721\n",
      "  w_bar_7=20.663\n"
     ]
    }
   ],
   "source": [
    "mdl4.solve(log_output= False)\n",
    "mdl4.print_solution()"
   ]
  },
  {
   "cell_type": "code",
   "execution_count": 20,
   "id": "1725bcc2",
   "metadata": {},
   "outputs": [
    {
     "name": "stdout",
     "output_type": "stream",
     "text": [
      "[  0.         117.1          0.77095808  56.93159028  59.06287425\n",
      "  57.02095808  57.02095808 115.96287425]\n"
     ]
    },
    {
     "data": {
      "text/plain": [
       "array([  0., 117.,   1.,  57.,  59.,  57.,  57., 116.])"
      ]
     },
     "execution_count": 20,
     "metadata": {},
     "output_type": "execute_result"
    }
   ],
   "source": [
    "result_w     = np.array(list(mdl4.solution.get_value_dict(w).values()))\n",
    "red = np.array(data2[\"r\"])\n",
    "\n",
    "rel_offsets = 1/2 * (red[:-1] - red[1:]) + result_w[:-1] - result_w[1:] + data2[\"t\"][:-1]\n",
    "offsets = np.hstack([0, np.cumsum(rel_offsets)])%C\n",
    "\n",
    "print(offsets)\n",
    "np.round(offsets, 0)"
   ]
  },
  {
   "cell_type": "code",
   "execution_count": 123,
   "id": "c80dbc59",
   "metadata": {},
   "outputs": [
    {
     "name": "stdout",
     "output_type": "stream",
     "text": [
      "[  0.           4.45       119.7         58.71560938  53.1\n",
      "  54.7         54.7        114.7       ]\n"
     ]
    },
    {
     "data": {
      "text/plain": [
       "array([  0.,   4., 120.,  59.,  53.,  55.,  55., 115.])"
      ]
     },
     "execution_count": 123,
     "metadata": {},
     "output_type": "execute_result"
    }
   ],
   "source": [
    "result_w_bar     = np.array(list(mdl4.solution.get_value_dict(w_bar).values()))\n",
    "red = np.array(data2[\"r_bar\"])\n",
    "\n",
    "rel_offsets = 1/2 * (red[:-1] - red[1:]) + result_w_bar[:-1] - result_w_bar[1:] + data2[\"t_bar\"][:-1]\n",
    "offsets = np.hstack([0, np.cumsum(rel_offsets)])%C\n",
    "\n",
    "print(offsets)\n",
    "np.round(offsets, 0)"
   ]
  },
  {
   "cell_type": "code",
   "execution_count": null,
   "id": "639a4ea3",
   "metadata": {},
   "outputs": [],
   "source": []
  }
 ],
 "metadata": {
  "kernelspec": {
   "display_name": "python 3.7 (vissim)",
   "language": "python",
   "name": "vissim"
  },
  "language_info": {
   "codemirror_mode": {
    "name": "ipython",
    "version": 3
   },
   "file_extension": ".py",
   "mimetype": "text/x-python",
   "name": "python",
   "nbconvert_exporter": "python",
   "pygments_lexer": "ipython3",
   "version": "3.7.3"
  },
  "varInspector": {
   "cols": {
    "lenName": 16,
    "lenType": 16,
    "lenVar": 40
   },
   "kernels_config": {
    "python": {
     "delete_cmd_postfix": "",
     "delete_cmd_prefix": "del ",
     "library": "var_list.py",
     "varRefreshCmd": "print(var_dic_list())"
    },
    "r": {
     "delete_cmd_postfix": ") ",
     "delete_cmd_prefix": "rm(",
     "library": "var_list.r",
     "varRefreshCmd": "cat(var_dic_list()) "
    }
   },
   "types_to_exclude": [
    "module",
    "function",
    "builtin_function_or_method",
    "instance",
    "_Feature"
   ],
   "window_display": false
  }
 },
 "nbformat": 4,
 "nbformat_minor": 5
}
